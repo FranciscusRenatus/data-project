{
 "cells": [
  {
   "cell_type": "code",
   "execution_count": 1,
   "metadata": {},
   "outputs": [],
   "source": [
    "import pandas as pd\n",
    "import json\n",
    "from sklearn import preprocessing\n",
    "import numpy as np\n",
    "import matplotlib.pyplot as plt"
   ]
  },
  {
   "cell_type": "markdown",
   "metadata": {},
   "source": [
    "# 1. Data exploration\n",
    "deep dive into the world of pandas"
   ]
  },
  {
   "cell_type": "markdown",
   "metadata": {},
   "source": [
    "## 1.1 UntypedDataSet"
   ]
  },
  {
   "cell_type": "code",
   "execution_count": 2,
   "metadata": {},
   "outputs": [],
   "source": [
    "# initialiseer dataframe.\n",
    "dfUntypedDataSet = pd.read_json(\"http://opendata.cbs.nl/ODataApi/OData/81975NED/UntypedDataSet?$top=1\")"
   ]
  },
  {
   "cell_type": "code",
   "execution_count": null,
   "metadata": {},
   "outputs": [],
   "source": [
    "# Loop tot alle data points in dataframe zitten met limiet van 10000 per keer.\n",
    "top = 9668\n",
    "skip = 1\n",
    "while skip < 96681:\n",
    "    big = dfUntypedDataSet.append(pd.read_json(\"http://opendata.cbs.nl/ODataApi/OData/81975NED/UntypedDataSet?$top=\" + str(top) + \"&$skip=\" + str(skip)))\n",
    "    skip = skip + 9668\n",
    "    dfUntypedDataSet = big"
   ]
  },
  {
   "cell_type": "markdown",
   "metadata": {},
   "source": [
    "Nu hebben we de alle UntypedDataSet in een df, hiervan willen we alleen de values."
   ]
  },
  {
   "cell_type": "code",
   "execution_count": null,
   "metadata": {},
   "outputs": [],
   "source": [
    "# lijst maken van values in df.\n",
    "DatasetUntypesList = dfUntypedDataSet[\"value\"].tolist()"
   ]
  },
  {
   "cell_type": "code",
   "execution_count": null,
   "metadata": {},
   "outputs": [],
   "source": [
    "# dataframe maken van lijst met beoogde values.\n",
    "newDF = pd.DataFrame(DatasetUntypesList)"
   ]
  },
  {
   "cell_type": "code",
   "execution_count": null,
   "metadata": {},
   "outputs": [],
   "source": [
    "newDF"
   ]
  },
  {
   "cell_type": "markdown",
   "metadata": {},
   "source": [
    "## 1.2 Typed DataSet"
   ]
  },
  {
   "cell_type": "code",
   "execution_count": null,
   "metadata": {},
   "outputs": [],
   "source": [
    "dftypedDataSet = pd.read_json(\"http://opendata.cbs.nl/ODataApi/OData/81975NED/TypedDataSet?$top=1\")"
   ]
  },
  {
   "cell_type": "code",
   "execution_count": null,
   "metadata": {},
   "outputs": [],
   "source": [
    "top = 9668\n",
    "skip = 1\n",
    "url = \"http://opendata.cbs.nl/ODataApi/OData/81975NED/TypedDataSet\"\n",
    "while skip < 96681:\n",
    "    big = dftypedDataSet.append(pd.read_json(\"http://opendata.cbs.nl/ODataApi/OData/81975NED/TypedDataSet?$top=\" + str(top) + \"&$skip=\" + str(skip)))\n",
    "    skip = skip + 9668\n",
    "    dftypedDataSet = big"
   ]
  },
  {
   "cell_type": "code",
   "execution_count": null,
   "metadata": {},
   "outputs": [],
   "source": [
    "# lijst maken van values in df.\n",
    "DatasetTypedList = dftypedDataSet[\"value\"].tolist()"
   ]
  },
  {
   "cell_type": "code",
   "execution_count": null,
   "metadata": {},
   "outputs": [],
   "source": [
    "# dataframe maken van lijst met beoogde values.\n",
    "newDF2 = pd.DataFrame(DatasetTypedList)"
   ]
  },
  {
   "cell_type": "code",
   "execution_count": null,
   "metadata": {},
   "outputs": [],
   "source": [
    "columns = newDF2.columns\n",
    "columns"
   ]
  },
  {
   "cell_type": "code",
   "execution_count": null,
   "metadata": {},
   "outputs": [],
   "source": [
    "newDF2.head()"
   ]
  },
  {
   "cell_type": "markdown",
   "metadata": {},
   "source": [
    "## 1.2.1 Inspecting Data"
   ]
  },
  {
   "cell_type": "code",
   "execution_count": null,
   "metadata": {},
   "outputs": [],
   "source": [
    "#Describe the sepal length column\n",
    "#print(\"Mean:\" + str(newDF2[\"Afzet\"].mean()))\n",
    "#print(\"Standard deviation: \" + str(newDF2[\"Afzet\"].std()))\n",
    "#print(\"Kurtosis: \" + str(newDF2[\"Afzet\"].kurtosis()))\n",
    "#print(\"Skewness: \" + str(newDF2[\"Afzet\"].skew()))\n",
    "\n",
    "# All data laten zien dat ontbreekt.\n",
    "newDF2.isnull().sum()"
   ]
  },
  {
   "cell_type": "code",
   "execution_count": null,
   "metadata": {},
   "outputs": [],
   "source": [
    "# pandas dataframe met alleen columns waar data ontbreekt.\n",
    "missingData = newDF2[[\"BedrijfstakkenBranchesSBI2008\",\"OntwikkelingTOV1JaarEerder_2\",\"OntwikkelingTOV1MaandEerder_3\", \"Perioden\" ,\"ProducentenprijsindexPPI_1\"]]\n",
    "\n",
    "# df met data waar alle data ontbreekt.\n",
    "allMissing = missingData.loc[(missingData[\"OntwikkelingTOV1JaarEerder_2\"].isnull()) & (missingData[\"OntwikkelingTOV1MaandEerder_3\"].isnull()) & (missingData[\"ProducentenprijsindexPPI_1\"].isnull())]"
   ]
  },
  {
   "cell_type": "code",
   "execution_count": null,
   "metadata": {},
   "outputs": [],
   "source": [
    "i = 0\n",
    "branches936 = []\n",
    "dates936 = []\n",
    "smallBranches = []\n",
    "bigBranches = []\n",
    "tempBranch = []\n",
    "\n",
    "# loop over alle branches, isoleer branch, verkrijg alle rows waarbij alle data ontbreekt.\n",
    "# als er precies 936 data punten ontbreekt sla het op in list en de bijhorende datums.\n",
    "while i < len(newDF2[\"BedrijfstakkenBranchesSBI2008\"].unique()):\n",
    "    branch = newDF2[\"BedrijfstakkenBranchesSBI2008\"].unique()[i]\n",
    "    foo = newDF2.loc[newDF2[\"BedrijfstakkenBranchesSBI2008\"] == branch]\n",
    "    x = len(foo)\n",
    "    bar = foo.loc[(foo[\"OntwikkelingTOV1JaarEerder_2\"].isnull()) & (foo[\"OntwikkelingTOV1MaandEerder_3\"].isnull()) & (foo[\"ProducentenprijsindexPPI_1\"].isnull())]\n",
    "    tar = foo.loc[(foo[\"OntwikkelingTOV1JaarEerder_2\"].isnull()) | (foo[\"OntwikkelingTOV1MaandEerder_3\"].isnull()) | (foo[\"ProducentenprijsindexPPI_1\"].isnull())]\n",
    "    y = len(bar)\n",
    "    z = len(tar)\n",
    "    if y == 936:\n",
    "        branches936.append(branchNamen.loc[branchNamen[\"Key\"] == branch][\"Title\"].tolist())\n",
    "        dates936.append(bar[\"Perioden\"].tolist())\n",
    "    elif y != 936 and y > 100:\n",
    "        bigBranches.append(branch)\n",
    "        #print(branch, x, y, z)\n",
    "    elif y > 0 and y < 100:\n",
    "        smallBranches.append(branch)\n",
    "        #print(branch, x, y, z)\n",
    "    elif z == 183:\n",
    "        tempBranch.append(branch)\n",
    "    print(branch, x, y, z) \n",
    "    i += 1"
   ]
  },
  {
   "cell_type": "code",
   "execution_count": null,
   "metadata": {},
   "outputs": [],
   "source": [
    "tempBranch"
   ]
  },
  {
   "cell_type": "code",
   "execution_count": null,
   "metadata": {},
   "outputs": [],
   "source": [
    "for i in tempBranch:  \n",
    "    print(branchNamen.loc[branchNamen[\"Key\"] == i])"
   ]
  },
  {
   "cell_type": "code",
   "execution_count": null,
   "metadata": {},
   "outputs": [],
   "source": [
    "# de 183 missing data te wijten aan begin van meting en zgn jaar meting?\n",
    "dummy = newDF2.loc[newDF2[\"BedrijfstakkenBranchesSBI2008\"] == \"311300\"]\n",
    "dummy"
   ]
  },
  {
   "cell_type": "markdown",
   "metadata": {},
   "source": [
    "## 1.2.2 dealing with missing data"
   ]
  },
  {
   "cell_type": "markdown",
   "metadata": {},
   "source": [
    "##### Alle branches waar precies 936 data punten ontbreken."
   ]
  },
  {
   "cell_type": "code",
   "execution_count": null,
   "metadata": {},
   "outputs": [],
   "source": [
    "branches936"
   ]
  },
  {
   "cell_type": "code",
   "execution_count": null,
   "metadata": {},
   "outputs": [],
   "source": [
    "# Alle datums van de branches waar precies 936 miste komen overeen.\n",
    "# Vanaf begin 1981 tot eind 2004 is er voor deze branches niks gemeten.\n",
    "dates936"
   ]
  },
  {
   "cell_type": "code",
   "execution_count": null,
   "metadata": {},
   "outputs": [],
   "source": []
  },
  {
   "cell_type": "code",
   "execution_count": null,
   "metadata": {},
   "outputs": [],
   "source": []
  },
  {
   "cell_type": "code",
   "execution_count": null,
   "metadata": {},
   "outputs": [],
   "source": []
  },
  {
   "cell_type": "markdown",
   "metadata": {},
   "source": [
    "#### Data waarbij prijs in alle gevallen ontbrak bij minder dan 100 data punten"
   ]
  },
  {
   "cell_type": "code",
   "execution_count": null,
   "metadata": {},
   "outputs": [],
   "source": [
    "for i in smallBranches:  \n",
    "    print(branchNamen.loc[branchNamen[\"Key\"] == i])"
   ]
  },
  {
   "cell_type": "code",
   "execution_count": null,
   "metadata": {},
   "outputs": [],
   "source": [
    "smallBranches"
   ]
  },
  {
   "cell_type": "code",
   "execution_count": null,
   "metadata": {},
   "outputs": [],
   "source": [
    "smallRemoved = newDF2.loc[newDF2[\"BedrijfstakkenBranchesSBI2008\"] == \"305700\"]\n",
    "\n",
    "for item in smallBranches:\n",
    "    if item != \"305700\":\n",
    "        temp = newDF2.loc[newDF2[\"BedrijfstakkenBranchesSBI2008\"] == item]\n",
    "        temp = temp.loc[(temp[\"OntwikkelingTOV1JaarEerder_2\"].notnull()) | (temp[\"OntwikkelingTOV1MaandEerder_3\"].notnull()) | (temp[\"ProducentenprijsindexPPI_1\"].notnull())]\n",
    "        smallRemoved = smallRemoved.append(temp)\n",
    "\n",
    "#smallRemoved\n",
    "testData = smallRemoved.interpolate()\n",
    "testData.isnull().sum()"
   ]
  },
  {
   "cell_type": "markdown",
   "metadata": {},
   "source": [
    "#### Data waarbij prijs in alle gevallen ontbrak bij meer dan 100 data punten"
   ]
  },
  {
   "cell_type": "code",
   "execution_count": null,
   "metadata": {},
   "outputs": [],
   "source": [
    "for i in bigBranches:  \n",
    "    print(branchNamen.loc[branchNamen[\"Key\"] == i])"
   ]
  },
  {
   "cell_type": "code",
   "execution_count": null,
   "metadata": {},
   "outputs": [],
   "source": [
    "jaarlozenummers = []\n",
    "for i,datum in enumerate(newDF2[\"Perioden\"].tolist()):\n",
    "    if datum.find(\"MM\") != -1:\n",
    "        jaarlozenummers.append(i)\n",
    "\n",
    "CleanDF2 = newDF2.iloc[jaarlozenummers]\n",
    "CleanDF2 = CleanDF2.drop(columns=[\"Wegingcoefficient_4\"])"
   ]
  },
  {
   "cell_type": "code",
   "execution_count": null,
   "metadata": {},
   "outputs": [],
   "source": [
    "afzet = [\"A4\",\"A5\",\"A6\"]\n",
    "for i in branchNamen[\"Key\"]:\n",
    "    BranchTemp = CleanDF2.loc[CleanDF2[\"BedrijfstakkenBranchesSBI2008\"] == i]\n",
    "    BranchTemp = BranchTemp.interpolate()\n",
    "    BranchClean = BranchTemp.loc[(BranchTemp[\"OntwikkelingTOV1JaarEerder_2\"].notnull()) | (BranchTemp[\"OntwikkelingTOV1MaandEerder_3\"].notnull()) | (BranchTemp[\"ProducentenprijsindexPPI_1\"].notnull())]\n",
    "    for k in afzet:\n",
    "        BranchCleanAfzet = BranchClean.loc[BranchClean[\"Afzet\"] == k]\n",
    "        BranchCleanAfzet.to_csv(i + \" - \" + k)"
   ]
  },
  {
   "cell_type": "code",
   "execution_count": null,
   "metadata": {},
   "outputs": [],
   "source": [
    "# 308100 begint later (Visverwerkende industrie)\n",
    "#temp1 = newDF2.loc[newDF2[\"BedrijfstakkenBranchesSBI2008\"] == \"308100\"]\n",
    "#temp1.loc[(temp1[\"OntwikkelingTOV1JaarEerder_2\"].notnull()) | (temp1[\"OntwikkelingTOV1MaandEerder_3\"].notnull()) | (temp1[\"ProducentenprijsindexPPI_1\"].notnull())]"
   ]
  },
  {
   "cell_type": "code",
   "execution_count": null,
   "metadata": {},
   "outputs": [],
   "source": [
    "#310100 van 2005 tot 2008 gemeten. (Suikerindustrie)\n",
    "#temp1 = newDF2.loc[newDF2[\"BedrijfstakkenBranchesSBI2008\"] == \"310100\"]\n",
    "#temp1.loc[(temp1[\"OntwikkelingTOV1JaarEerder_2\"].notnull()) | (temp1[\"OntwikkelingTOV1MaandEerder_3\"].notnull()) | (temp1[\"ProducentenprijsindexPPI_1\"].notnull())]"
   ]
  },
  {
   "cell_type": "code",
   "execution_count": null,
   "metadata": {},
   "outputs": [],
   "source": [
    "# 311600 helemaal leeg. (1102 Wijnindustrie uit druiven) Laten vallen.\n",
    "#temp1 = newDF2.loc[newDF2[\"BedrijfstakkenBranchesSBI2008\"] == \"311600\"]\n",
    "#temp1.loc[(temp1[\"OntwikkelingTOV1JaarEerder_2\"].notnull()) | (temp1[\"OntwikkelingTOV1MaandEerder_3\"].notnull()) | (temp1[\"ProducentenprijsindexPPI_1\"].notnull())]"
   ]
  },
  {
   "cell_type": "code",
   "execution_count": null,
   "metadata": {},
   "outputs": [],
   "source": [
    "# 344400 begint 2010 tot 2017. Reparatie en installatie van machines.\n",
    "#temp1 = newDF2.loc[newDF2[\"BedrijfstakkenBranchesSBI2008\"] == \"344400\"]\n",
    "#temp1.loc[(temp1[\"OntwikkelingTOV1JaarEerder_2\"].notnull()) | (temp1[\"OntwikkelingTOV1MaandEerder_3\"].notnull()) | (temp1[\"ProducentenprijsindexPPI_1\"].notnull())]"
   ]
  },
  {
   "cell_type": "code",
   "execution_count": null,
   "metadata": {},
   "outputs": [],
   "source": [
    "# Helemaal leeg. 348000  Waterbedrijven en afvalbeheer laten vallen.\n",
    "#temp1 = newDF2.loc[newDF2[\"BedrijfstakkenBranchesSBI2008\"] == \"3348000\"]\n",
    "#temp1.loc[(temp1[\"OntwikkelingTOV1JaarEerder_2\"].notnull()) | (temp1[\"OntwikkelingTOV1MaandEerder_3\"].notnull()) | (temp1[\"ProducentenprijsindexPPI_1\"].notnull())]"
   ]
  },
  {
   "cell_type": "code",
   "execution_count": null,
   "metadata": {},
   "outputs": [],
   "source": [
    "# Waterleidingbedrijven 348100 begint 1981 tot eind 2017. Is volledig, heeft maar 1 meting per maand.\n",
    "#temp1 = newDF2.loc[newDF2[\"BedrijfstakkenBranchesSBI2008\"] == \"348100\"]\n",
    "#temp1.loc[(temp1[\"OntwikkelingTOV1JaarEerder_2\"].notnull()) | (temp1[\"OntwikkelingTOV1MaandEerder_3\"].notnull()) | (temp1[\"ProducentenprijsindexPPI_1\"].notnull())]"
   ]
  },
  {
   "cell_type": "code",
   "execution_count": null,
   "metadata": {},
   "outputs": [],
   "source": []
  },
  {
   "cell_type": "markdown",
   "metadata": {},
   "source": [
    "### 1.3TableInfos"
   ]
  },
  {
   "cell_type": "code",
   "execution_count": null,
   "metadata": {},
   "outputs": [],
   "source": [
    "dfTableInfos = pd.read_json(\"http://opendata.cbs.nl/ODataApi/OData/81975NED/TableInfos\")"
   ]
  },
  {
   "cell_type": "code",
   "execution_count": null,
   "metadata": {},
   "outputs": [],
   "source": [
    "dfTableInfos[\"value\"]"
   ]
  },
  {
   "cell_type": "markdown",
   "metadata": {},
   "source": [
    "### 1.4 DataProperties"
   ]
  },
  {
   "cell_type": "code",
   "execution_count": null,
   "metadata": {},
   "outputs": [],
   "source": [
    "dfDataProperties = pd.read_json(\"http://opendata.cbs.nl/ODataApi/OData/81975NED/DataProperties\")\n",
    "dfDataProperties[\"value\"]"
   ]
  },
  {
   "cell_type": "markdown",
   "metadata": {},
   "source": [
    "### 1.5 CategoryGroups"
   ]
  },
  {
   "cell_type": "code",
   "execution_count": null,
   "metadata": {},
   "outputs": [],
   "source": [
    "dfCategoryGroups = pd.read_json(\"http://opendata.cbs.nl/ODataApi/OData/81975NED/CategoryGroups\")\n",
    "listCat = dfCategoryGroups[\"value\"].tolist()\n",
    "pdCatGroup = pd.DataFrame(listCat)"
   ]
  },
  {
   "cell_type": "markdown",
   "metadata": {},
   "source": [
    "### 1.6 Afzet"
   ]
  },
  {
   "cell_type": "code",
   "execution_count": null,
   "metadata": {},
   "outputs": [],
   "source": [
    "dfAfzet = pd.read_json(\"http://opendata.cbs.nl/ODataApi/OData/81975NED/Afzet\")\n",
    "dfAfzet[\"value\"][0]"
   ]
  },
  {
   "cell_type": "markdown",
   "metadata": {},
   "source": [
    "A6: Afzet van in Nederland geproduceerde goederen door de betreffende (sub)sectie(s) ongeacht of deze zijn afgezet in binnenland of buitenland. AKA Totaal.\n",
    "\n",
    "A4: Binnenlandse afzet van in Nederland geproduceerde goederen door de betreffende bedrijfstakken. Binnenlandse afzet.\n",
    "\n",
    "A5: Buitenlandse afzet van in Nederland geproduceerde goederen door de betreffende bedrijfstakken. AKA Buitenlands Afzet."
   ]
  },
  {
   "cell_type": "markdown",
   "metadata": {},
   "source": [
    "### 1.7 BedrijfstakkenBranchesSBI2008"
   ]
  },
  {
   "cell_type": "code",
   "execution_count": null,
   "metadata": {},
   "outputs": [],
   "source": [
    "dfBedrijfstakkenBranchesSBI2008 = pd.read_json(\"http://opendata.cbs.nl/ODataApi/OData/81975NED/BedrijfstakkenBranchesSBI2008\")\n",
    "pdBedrijfstakkenSBI = pd.DataFrame(dfBedrijfstakkenBranchesSBI2008[\"value\"].tolist())\n",
    "pdBedrijfstakkenSBI"
   ]
  },
  {
   "cell_type": "code",
   "execution_count": null,
   "metadata": {
    "scrolled": true
   },
   "outputs": [],
   "source": [
    "#dfBedrijfstakkenBranchesSBI2008.loc[newDF2['Value'] == \"A6\"]\n",
    "branchNamen = pdBedrijfstakkenSBI[[\"Key\",\"Title\"]]\n",
    "branchNamen"
   ]
  },
  {
   "cell_type": "markdown",
   "metadata": {},
   "source": [
    "### 1.8 Perioden"
   ]
  },
  {
   "cell_type": "code",
   "execution_count": 41,
   "metadata": {},
   "outputs": [],
   "source": [
    "dfPerioden = pd.read_json(\"http://opendata.cbs.nl/ODataApi/OData/81975NED/Perioden\")\n",
    "dfPeriodenlist = dfPerioden[\"value\"].tolist()\n",
    "dfPeriod = pd.DataFrame(dfPeriodenlist)"
   ]
  },
  {
   "cell_type": "code",
   "execution_count": null,
   "metadata": {},
   "outputs": [],
   "source": []
  }
 ],
 "metadata": {
  "kernelspec": {
   "display_name": "Python 3",
   "language": "python",
   "name": "python3"
  },
  "language_info": {
   "codemirror_mode": {
    "name": "ipython",
    "version": 3
   },
   "file_extension": ".py",
   "mimetype": "text/x-python",
   "name": "python",
   "nbconvert_exporter": "python",
   "pygments_lexer": "ipython3",
   "version": "3.6.5"
  }
 },
 "nbformat": 4,
 "nbformat_minor": 2
}
